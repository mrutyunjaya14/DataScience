{
 "cells": [
  {
   "cell_type": "code",
   "execution_count": 1,
   "id": "125f1686-d43b-4091-a08d-5161c62217bc",
   "metadata": {},
   "outputs": [
    {
     "name": "stdout",
     "output_type": "stream",
     "text": [
      "Hello world ..!!\n"
     ]
    }
   ],
   "source": [
    "print(\"Hello world ..!!\")"
   ]
  },
  {
   "cell_type": "code",
   "execution_count": null,
   "id": "58d97323-f199-4bfa-b625-196a2a43dd83",
   "metadata": {},
   "outputs": [],
   "source": []
  }
 ],
 "metadata": {
  "kernelspec": {
   "display_name": "Python 3 (ipykernel)",
   "language": "python",
   "name": "python3"
  },
  "language_info": {
   "codemirror_mode": {
    "name": "ipython",
    "version": 3
   },
   "file_extension": ".py",
   "mimetype": "text/x-python",
   "name": "python",
   "nbconvert_exporter": "python",
   "pygments_lexer": "ipython3",
   "version": "3.12.4"
  }
 },
 "nbformat": 4,
 "nbformat_minor": 5
}
