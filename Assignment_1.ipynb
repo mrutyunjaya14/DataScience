{
 "cells": [
  {
   "cell_type": "markdown",
   "id": "e0047b99-e07a-4fd1-a22d-35f939f7eb27",
   "metadata": {},
   "source": [
    "**1. Ask the user to enter a number. Print out the square of the number**\n",
    "\n"
   ]
  },
  {
   "cell_type": "code",
   "execution_count": 9,
   "id": "f03fc079-60d4-4e80-a135-8584e1c68b3f",
   "metadata": {},
   "outputs": [
    {
     "name": "stdin",
     "output_type": "stream",
     "text": [
      "Enter a number : 7\n"
     ]
    },
    {
     "name": "stdout",
     "output_type": "stream",
     "text": [
      "square of 7 is 49.0 \n"
     ]
    }
   ],
   "source": [
    "import math\n",
    "a=eval(input(\"Enter a number :\"))\n",
    "square=math.pow(a,2)\n",
    "print(f\"square of {a} is {square} \")\n",
    "       "
   ]
  },
  {
   "cell_type": "markdown",
   "id": "26a5dfcc-cdbc-4624-be65-dacbc7666cb5",
   "metadata": {},
   "source": [
    "**2. Ask the user to enter a number x. print out x, 2x, 3x, 4x, and 5x,\n",
    "each separated by three dashes, like below.**"
   ]
  },
  {
   "cell_type": "code",
   "execution_count": 30,
   "id": "6c58e4d2-b6e4-4675-81ec-933d78466862",
   "metadata": {},
   "outputs": [
    {
     "name": "stdin",
     "output_type": "stream",
     "text": [
      "Enter a number : 7\n"
     ]
    },
    {
     "name": "stdout",
     "output_type": "stream",
     "text": [
      "7---14---21---28---35\n"
     ]
    }
   ],
   "source": [
    "b=eval(input(\"Enter a number :\"))\n",
    "print(b,2*b,3*b,4*b,5*b,sep=\"---\")"
   ]
  },
  {
   "cell_type": "markdown",
   "id": "0f1b655f-3458-4f81-bb5e-748b5b9e326c",
   "metadata": {},
   "source": [
    "**3. Write a program that asks the user for a weight in kilograms and\n",
    "converts it to pounds. There are 2.2 pounds in a kilogram.**"
   ]
  },
  {
   "cell_type": "code",
   "execution_count": 35,
   "id": "2d5fbefe-2ab7-49a1-8946-77f86f72d700",
   "metadata": {},
   "outputs": [
    {
     "name": "stdin",
     "output_type": "stream",
     "text": [
      "please enter your weight in kilograms : 65\n"
     ]
    },
    {
     "name": "stdout",
     "output_type": "stream",
     "text": [
      "your weight in pound is 143.0 pounds \n"
     ]
    }
   ],
   "source": [
    "c=eval(input(\"please enter your weight in kilograms :\"))\n",
    "print(f\"your weight in pound is {2.2*c} pounds \")"
   ]
  },
  {
   "cell_type": "markdown",
   "id": "31463cd6-f5a9-48c8-9bfd-524adb963c1a",
   "metadata": {},
   "source": [
    "**4. Write a program that asks the user to enter three numbers (use three\n",
    "separate input statements).Create variables called total and average\n",
    "that hold the sum and average of the three numbers and print out the\n",
    "values of total and average.**"
   ]
  },
  {
   "cell_type": "code",
   "execution_count": 44,
   "id": "247e5ce9-c71f-44be-b52d-ba271add0548",
   "metadata": {},
   "outputs": [
    {
     "name": "stdin",
     "output_type": "stream",
     "text": [
      "Enter first number : 12\n",
      "Enter second number : 2\n",
      "Enter third number : 32\n"
     ]
    },
    {
     "name": "stdout",
     "output_type": "stream",
     "text": [
      "Sum of 12 ,2 and 32 is 46 \n",
      "average of 12, 2 and 32 is 24.667\n"
     ]
    }
   ],
   "source": [
    "a=eval(input(\"Enter first number :\"))\n",
    "b=eval(input(\"Enter second number :\"))\n",
    "c=eval(input(\"Enter third number :\"))\n",
    "total=a+b+c\n",
    "average=round(a+b+c/3,3)\n",
    "print(f\"Sum of {a} ,{b} and {c} is {total} \")\n",
    "print(f\"average of {a}, {b} and {c} is {average}\")"
   ]
  },
  {
   "cell_type": "markdown",
   "id": "55d24f0b-ee5b-475c-b84d-7a5cd883ae77",
   "metadata": {},
   "source": [
    "**5. A lot of cell phones have tip calculators. Write one. Ask the user for\n",
    "the price of the meal and the percent tip they want to leave. Then\n",
    "print both the tip amount and the total bill with the tip included.**"
   ]
  },
  {
   "cell_type": "code",
   "execution_count": 49,
   "id": "c68d70d3-f7b5-4fa2-87ee-6f192e3dd606",
   "metadata": {},
   "outputs": [
    {
     "name": "stdin",
     "output_type": "stream",
     "text": [
      "Enter price of the meal 200\n",
      "Enter tips percentage  5\n"
     ]
    },
    {
     "name": "stdout",
     "output_type": "stream",
     "text": [
      "tip amount is 10.0\n",
      "And total bill is 210.0\n"
     ]
    }
   ],
   "source": [
    "meal_price=eval(input(\"Enter price of the meal\"))\n",
    "tip_percnt=eval(input(\"Enter tips percentage \"))\n",
    "tip_amount=meal_price*tip_percnt/100\n",
    "total_bill=meal_price+tip_amount\n",
    "print(f\"tip amount is {tip_amount}\")\n",
    "print(f\"And total bill is {total_bill}\")"
   ]
  },
  {
   "cell_type": "markdown",
   "id": "357c98b1-e0fc-4f51-a6fb-248b9aa66384",
   "metadata": {},
   "source": [
    "**6. wap ask the user enter the 2 numbers find the subtraction,addition,\n",
    "multiplication and division**"
   ]
  },
  {
   "cell_type": "code",
   "execution_count": 55,
   "id": "65f94b74-c9c7-4bfa-ad20-8b8471fae2e3",
   "metadata": {},
   "outputs": [
    {
     "name": "stdin",
     "output_type": "stream",
     "text": [
      "Enter first number : 30\n",
      "Enter second number: 10\n"
     ]
    },
    {
     "name": "stdout",
     "output_type": "stream",
     "text": [
      "Addition of 30 and 10 is 40 \n",
      "Subtraction of 30 from 10 is 20 \n",
      "Multiplication of 30 and 10 is 300 \n",
      "Division of 30 and 10 is 3.0 \n"
     ]
    }
   ],
   "source": [
    "x=eval(input(\"Enter first number :\"))\n",
    "y=eval(input(\"Enter second number:\"))\n",
    "add=x+y\n",
    "sub=x-y\n",
    "mul=x*y\n",
    "div=x/y\n",
    "print(f\"Addition of {x} and {y} is {add} \")\n",
    "print(f\"Subtraction of {x} from {y} is {sub} \")\n",
    "print(f\"Multiplication of {x} and {y} is {mul} \")\n",
    "print(f\"Division of {x} and {y} is {div} \")"
   ]
  },
  {
   "cell_type": "markdown",
   "id": "53cd4b35-fb0b-4bff-8a2f-545b33d0a0b8",
   "metadata": {},
   "source": [
    "**7. wap ask the user enter radius values and pi value find the area\n",
    "of the circle**"
   ]
  },
  {
   "cell_type": "code",
   "execution_count": 62,
   "id": "b395c5b7-c32c-4455-b680-8eb442525aa5",
   "metadata": {},
   "outputs": [
    {
     "name": "stdin",
     "output_type": "stream",
     "text": [
      "Enter radius of a circle : 3\n"
     ]
    },
    {
     "name": "stdout",
     "output_type": "stream",
     "text": [
      "area of circle whose radius is 3 is 28.274 sqr unit\n"
     ]
    }
   ],
   "source": [
    "radius=eval(input(\"Enter radius of a circle :\"))\n",
    "area=round(math.pi*radius*radius,3)\n",
    "print(f\"area of circle whose radius is {radius} is {area} sqr unit\")"
   ]
  },
  {
   "cell_type": "markdown",
   "id": "100b3661-ce2d-4191-9fe0-284a2fd4c806",
   "metadata": {},
   "source": [
    "**8. wap ask the user bill amount in dollars, ask the user enter how\n",
    "much indian rupees for one dollar print the bill amount in rupees**"
   ]
  },
  {
   "cell_type": "code",
   "execution_count": 65,
   "id": "03bcf2a3-3fde-43ae-81b5-d082bf3379e6",
   "metadata": {},
   "outputs": [
    {
     "name": "stdin",
     "output_type": "stream",
     "text": [
      "Enter bill amount in dollars : 100\n",
      "Enter how much rupees in one dollars: 83.13\n"
     ]
    },
    {
     "name": "stdout",
     "output_type": "stream",
     "text": [
      "Bill amount in rupees is 8313.0\n"
     ]
    }
   ],
   "source": [
    "l=eval(input(\"Enter bill amount in dollars :\"))\n",
    "m=eval(input(\"Enter how much rupees in one dollars:\"))\n",
    "print(f\"Bill amount in rupees is {l*m}\")"
   ]
  },
  {
   "cell_type": "markdown",
   "id": "eb9b3ec0-53a5-4d2a-9b30-42cabb45f8d0",
   "metadata": {},
   "source": [
    "**9. wap ask the user enter base height calculate area of the triangle**"
   ]
  },
  {
   "cell_type": "code",
   "execution_count": 70,
   "id": "31e28137-885c-4523-8244-2ddae8f8831b",
   "metadata": {},
   "outputs": [
    {
     "name": "stdin",
     "output_type": "stream",
     "text": [
      "Enter the base of a triangle : 6\n",
      "Enter height  8\n"
     ]
    },
    {
     "name": "stdout",
     "output_type": "stream",
     "text": [
      "Area of the triangle is 24.0\n"
     ]
    }
   ],
   "source": [
    "base=eval(input(\"Enter the base of a triangle :\"))\n",
    "height=eval(input(\"Enter height \"))\n",
    "print(f\"Area of the triangle is {0.5*base*height}\")"
   ]
  },
  {
   "cell_type": "markdown",
   "id": "4597098a-86cb-4610-87ca-42420b8353a9",
   "metadata": {},
   "source": [
    "**10. wap ask the user enter length and breadth calculate area of the\n",
    "rectangle**"
   ]
  },
  {
   "cell_type": "code",
   "execution_count": 77,
   "id": "1527b14c-e1e5-40be-9cc0-24bab9487949",
   "metadata": {},
   "outputs": [
    {
     "name": "stdin",
     "output_type": "stream",
     "text": [
      "Enter length of rectangle : 12\n",
      "Enter breadth : 11\n"
     ]
    },
    {
     "name": "stdout",
     "output_type": "stream",
     "text": [
      "Area of the rectangle is 132 sqr unit\n"
     ]
    }
   ],
   "source": [
    "lenth=eval(input(\"Enter length of rectangle :\"))\n",
    "breadth=eval(input(\"Enter breadth :\"))\n",
    "print(f\"Area of the rectangle is {lenth*breadth} sqr unit\")"
   ]
  },
  {
   "cell_type": "markdown",
   "id": "a4169822-a29f-460e-af6f-915d2be14582",
   "metadata": {},
   "source": [
    "**11. Let’s create a story between Father and daughter , You need\n",
    "to create a story by using print and input keywords\n",
    "You need to develop a python code same like below steps\n",
    "The goal of this code is to understand python is step by step\n",
    "process**"
   ]
  },
  {
   "cell_type": "code",
   "execution_count": null,
   "id": "d677ee59-857f-4f9c-bf7b-7726553e3655",
   "metadata": {},
   "outputs": [],
   "source": [
    "#Step-1: input(“ Father: Hey Baby!”)\n",
    "#Step-2: input(“Daughter: Hello Dady”)\n",
    "#Step-3: input(“Father: I heard your exams are over, what about result”)\n",
    "#Step-4: input(“Daughter: Yes dad! Results are out.”)\n",
    "#Step-5: input(“Father: what is the percentage?”)\n",
    "#Step-6: input(“Daughter: I will give my subject wise marks , you tell me the percentage”)\n",
    "#Step-7: input(“Father : Okay!)\n",
    "#Step-8: sub1=eval(input(“First Language:”))\n",
    "#Step-9: sub2=eval(input(“Second language:”))\n",
    "#Step-10: sub3=eval(input(“Third language:”))\n",
    "#Step-11: sub4=eval(input(“Science:”))\n",
    "#Step-12: sub5=eval(input(“Maths:”))\n",
    "#Step-13: Daughter: Dad Now tell me how much percentage I got\n",
    "#Step-14: Father: Tell me the max marks of each subject\n",
    "#Step-15: max_marks=eval(input(“Daughter:”)) give=100\n",
    "#Step-16: calculate the percentage of marks and print it"
   ]
  },
  {
   "cell_type": "code",
   "execution_count": 82,
   "id": "3480e6cb-99f9-47e5-972f-6c0186228f13",
   "metadata": {},
   "outputs": [
    {
     "name": "stdin",
     "output_type": "stream",
     "text": [
      "Father : hey baby\n",
      "Daughter : hello dad\n",
      "Father : i heared your exam is over ,what about result!\n",
      "Daughter : yes dad result is out \n",
      "Father :  what is the percentage ?\n",
      "Daughter : i will give my subject wise marks,you tell me the percentage \n",
      "Father : okay\n",
      "First language : 70\n",
      "Second language : 64\n",
      "third language : 35\n",
      "science : 90\n",
      "math : 88\n",
      "Daughter now tell me how much percentage i got\n",
      "Father tell me the maximum marks of each subject\n",
      "daughter : 100\n"
     ]
    },
    {
     "name": "stdout",
     "output_type": "stream",
     "text": [
      "the percentage of marks is:69.39999999999999\n"
     ]
    }
   ],
   "source": [
    "input(\"Father :\")\n",
    "input(\"Daughter :\")\n",
    "input(\"Father :\")\n",
    "input(\"Daughter :\")\n",
    "input(\"Father : \")\n",
    "input(\"Daughter :\")\n",
    "input(\"Father :\")\n",
    "first_lang=eval(input('First language :' ))\n",
    "second_lang=eval(input('Second language :'))\n",
    "third_lang=eval(input('third language :'))\n",
    "science=eval(input('science :'))\n",
    "math=eval(input('math :'))\n",
    "input(\"Daughter\")\n",
    "input(\"Father\")\n",
    "max_marks=eval(input(\"daughter :\"))\n",
    "full_marks=max_marks*5 # total number of subject is 5\n",
    "secured_marks=first_lang+second_lang+third_lang+math+science\n",
    "marks_percent=secured_marks/full_marks*100\n",
    "#avg=(telugu+hindi+eng+Maths+Science+Social)/6\n",
    "#avg1=round(avg,2)\n",
    "print(f\"the percentage of marks is:{marks_percent}\")\n"
   ]
  },
  {
   "cell_type": "code",
   "execution_count": null,
   "id": "dbfe73e7-71eb-4ded-ada4-27424bf99545",
   "metadata": {},
   "outputs": [],
   "source": []
  }
 ],
 "metadata": {
  "kernelspec": {
   "display_name": "Python 3 (ipykernel)",
   "language": "python",
   "name": "python3"
  },
  "language_info": {
   "codemirror_mode": {
    "name": "ipython",
    "version": 3
   },
   "file_extension": ".py",
   "mimetype": "text/x-python",
   "name": "python",
   "nbconvert_exporter": "python",
   "pygments_lexer": "ipython3",
   "version": "3.12.4"
  }
 },
 "nbformat": 4,
 "nbformat_minor": 5
}
