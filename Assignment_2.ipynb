{
 "cells": [
  {
   "cell_type": "markdown",
   "id": "1cbde483-4b23-42d2-bc11-5e6f17ca2cca",
   "metadata": {},
   "source": [
    "**1. wap ask the user take two number num1, num2, if both numbers are matched then print \"we won\" otherwise print \"lost\"**"
   ]
  },
  {
   "cell_type": "code",
   "execution_count": 3,
   "id": "15b13f1b-2c6b-4cf2-a079-98b6046053d5",
   "metadata": {},
   "outputs": [
    {
     "name": "stdin",
     "output_type": "stream",
     "text": [
      "Enter a number  22\n",
      "Enter a number  33\n"
     ]
    },
    {
     "name": "stdout",
     "output_type": "stream",
     "text": [
      "we lost\n"
     ]
    }
   ],
   "source": [
    "n1=eval(input(\"Enter a number \"))\n",
    "n2=eval(input(\"Enter a number \"))\n",
    "if n1==n2:\n",
    "    print('we won')\n",
    "else:\n",
    "    print('we lost')"
   ]
  },
  {
   "cell_type": "markdown",
   "id": "e6229927-a394-4c2d-9241-9470fdc77647",
   "metadata": {},
   "source": [
    " **2.wap ask the user take one number & another number comes as random integer between 1 to 10 if both numbers are matched then print we are won\n",
    " otherwise print we lost**"
   ]
  },
  {
   "cell_type": "code",
   "execution_count": 6,
   "id": "569ede00-e0eb-4ce1-a8e7-dc8b1dafa263",
   "metadata": {},
   "outputs": [
    {
     "name": "stdin",
     "output_type": "stream",
     "text": [
      "Enter a number  22\n"
     ]
    },
    {
     "name": "stdout",
     "output_type": "stream",
     "text": [
      "we lost\n"
     ]
    }
   ],
   "source": [
    "import random\n",
    "n1=eval(input(\"Enter a number \"))  # Here  one value is taken from user and another taken randomly with the help of random package\n",
    "n2=random.randint(1,100)\n",
    "if n1==n2:\n",
    "    print('we won')\n",
    "else:\n",
    "    print('we lost')"
   ]
  },
  {
   "cell_type": "markdown",
   "id": "a6aedbdd-b909-4349-b6f2-506ca8771319",
   "metadata": {},
   "source": [
    "**3. wap ask the user to input a number and cheak wheather it is a even or odd number**"
   ]
  },
  {
   "cell_type": "code",
   "execution_count": 11,
   "id": "3f8bedc8-5b91-493e-bf0c-02044156d9ea",
   "metadata": {},
   "outputs": [
    {
     "name": "stdin",
     "output_type": "stream",
     "text": [
      "Enter a number  278\n"
     ]
    },
    {
     "name": "stdout",
     "output_type": "stream",
     "text": [
      "even number \n"
     ]
    }
   ],
   "source": [
    "n1=eval(input(\"Enter a number \"))\n",
    "if n1%2==0:\n",
    "    print(\"even number \")\n",
    "\n",
    "else:\n",
    "    print('odd number ')"
   ]
  },
  {
   "cell_type": "markdown",
   "id": "8d017d79-baa0-49f6-ad10-e094c543a226",
   "metadata": {},
   "source": [
    "**4.  wap to enter a distance if the distance greater than 25km  then ask the charge and calculate the charge other than 25km distance otherwise print free ride**\n"
   ]
  },
  {
   "cell_type": "code",
   "execution_count": 17,
   "id": "d5988832-b3b7-44eb-9db2-f5be1ce738c5",
   "metadata": {},
   "outputs": [
    {
     "name": "stdin",
     "output_type": "stream",
     "text": [
      "enter distance 75\n",
      "enter charge 10\n"
     ]
    },
    {
     "name": "stdout",
     "output_type": "stream",
     "text": [
      "the charge is applicable only on 50 km \n",
      "total charges is 500\n"
     ]
    }
   ],
   "source": [
    "dist=eval(input(\"enter distance\"))\n",
    "if dist>25:\n",
    "    charge=eval(input(\"enter charge\"))\n",
    "    total_charge=(dist-25)*charge\n",
    "    print(f\"the charge is applicable only on {dist-25} km \")\n",
    "    print('total charges is',total_charge )\n",
    "else:\n",
    "    print(\"This ride is completely free for you !!!\")"
   ]
  },
  {
   "cell_type": "markdown",
   "id": "6007a4a4-01f4-483c-a426-8bfb90b16faa",
   "metadata": {},
   "source": [
    "**5. wap to ask user to enter two number and print which is greater number**\n"
   ]
  },
  {
   "cell_type": "code",
   "execution_count": 21,
   "id": "6d6d5b0b-432a-4ad6-bf78-c922b3f0b877",
   "metadata": {},
   "outputs": [
    {
     "name": "stdin",
     "output_type": "stream",
     "text": [
      "enter first number  234\n",
      "enter second number  543\n"
     ]
    },
    {
     "name": "stdout",
     "output_type": "stream",
     "text": [
      "543 is graeter number \n"
     ]
    }
   ],
   "source": [
    "n1=eval(input(\"enter first number \"))\n",
    "n2=eval(input(\"enter second number \"))\n",
    "if n1<n2:\n",
    "    print(f'{n2 } is graeter number ')\n",
    "\n",
    "else:\n",
    "    print(f'{n1} is graeter number ')\n"
   ]
  },
  {
   "cell_type": "markdown",
   "id": "b0c383a3-07dd-41fd-ad0c-708e95399aad",
   "metadata": {},
   "source": [
    "**6. wap  ask the user to enter the courseand institue name if course name ==data science and institue name is nareshIT the print good otherwise not good**"
   ]
  },
  {
   "cell_type": "code",
   "execution_count": 26,
   "id": "65f8c755-edc8-493d-994d-76da0f5ade0b",
   "metadata": {},
   "outputs": [
    {
     "name": "stdin",
     "output_type": "stream",
     "text": [
      "Enter course name : data science\n",
      "Enter institute name : nareshit\n"
     ]
    },
    {
     "name": "stdout",
     "output_type": "stream",
     "text": [
      "good\n"
     ]
    }
   ],
   "source": [
    "course_name=input(\"Enter course name :\")\n",
    "inst_name=input('Enter institute name :')\n",
    "if course_name=='data science' and inst_name=='nareshit' :\n",
    "    print(\"good\")\n",
    "\n",
    "else:\n",
    "    print(\"not good\")"
   ]
  }
 ],
 "metadata": {
  "kernelspec": {
   "display_name": "Python 3 (ipykernel)",
   "language": "python",
   "name": "python3"
  },
  "language_info": {
   "codemirror_mode": {
    "name": "ipython",
    "version": 3
   },
   "file_extension": ".py",
   "mimetype": "text/x-python",
   "name": "python",
   "nbconvert_exporter": "python",
   "pygments_lexer": "ipython3",
   "version": "3.12.4"
  }
 },
 "nbformat": 4,
 "nbformat_minor": 5
}
